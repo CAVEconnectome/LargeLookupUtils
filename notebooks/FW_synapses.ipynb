{
 "cells": [
  {
   "cell_type": "code",
   "execution_count": 13,
   "id": "87f6223b-cc28-4a23-8c7d-8df56c8e9e02",
   "metadata": {},
   "outputs": [],
   "source": [
    "import pandas as pd\n",
    "import numpy as np\n",
    "import os\n",
    "\n",
    "HOME = os.path.expanduser(\"~\")\n",
    "repo_path = f\"{HOME}/LargeLookupUtils/data\""
   ]
  },
  {
   "cell_type": "code",
   "execution_count": 3,
   "id": "fa9c6c1c-269f-4da0-bf1b-d75ef821b506",
   "metadata": {},
   "outputs": [],
   "source": [
    "path = f\"{HOME}/FlyWireConnectome/data/sample_edgelist.feather\"\n",
    "sample_df = pd.read_feather(path)"
   ]
  },
  {
   "cell_type": "code",
   "execution_count": 10,
   "id": "e3f4de9f-f638-46f3-bf88-b66a5f7b72e3",
   "metadata": {},
   "outputs": [],
   "source": [
    "pre_nm = np.array(sample_df[[\"presyn_x\", \"presyn_y\", \"presyn_z\"]]) * np.array([16, 16, 40])\n",
    "post_nm = np.array(sample_df[[\"postsyn_x\", \"postsyn_y\", \"presyn_z\"]]) * np.array([16, 16, 40])"
   ]
  },
  {
   "cell_type": "code",
   "execution_count": 37,
   "id": "6d8c1ef2-447c-4a78-a840-fe3abb15083d",
   "metadata": {},
   "outputs": [],
   "source": [
    "all_coords = np.concatenate([pre_nm, post_nm], axis=0)"
   ]
  },
  {
   "cell_type": "code",
   "execution_count": 14,
   "id": "ff6983fc-adee-45a1-9661-892b341b353d",
   "metadata": {},
   "outputs": [],
   "source": [
    "np.save(f\"{repo_path}/FW_sample_edgelist_coords.npy\", np.concatenate([pre_nm, post_nm], axis=0))"
   ]
  },
  {
   "cell_type": "code",
   "execution_count": 25,
   "id": "60bce209-fa87-477e-8675-8f3dc97aef52",
   "metadata": {},
   "outputs": [
    {
     "data": {
      "text/plain": [
       "158873"
      ]
     },
     "execution_count": 25,
     "metadata": {},
     "output_type": "execute_result"
    }
   ],
   "source": [
    "len(pre_nm)"
   ]
  },
  {
   "cell_type": "code",
   "execution_count": 28,
   "id": "3e928cc7-e7fa-4efc-a870-0403040208a3",
   "metadata": {},
   "outputs": [],
   "source": [
    "coord_ids = np.load(f\"{repo_path}/FW_sample/coord_ids.npy\")\n",
    "sv_ids = np.load(f\"{repo_path}/FW_sample/sv_ids.npy\")"
   ]
  },
  {
   "cell_type": "code",
   "execution_count": 32,
   "id": "ed8a8605-00be-4336-934e-23dc3a6ecbef",
   "metadata": {},
   "outputs": [
    {
     "data": {
      "text/plain": [
       "79027604942059542"
      ]
     },
     "execution_count": 32,
     "metadata": {},
     "output_type": "execute_result"
    }
   ],
   "source": [
    "sv_ids[coord_ids][idx]"
   ]
  },
  {
   "cell_type": "code",
   "execution_count": 31,
   "id": "80d58786-a8fc-406b-bba1-3a59efde770c",
   "metadata": {},
   "outputs": [],
   "source": [
    "idx = np.random.randint(len(pre_nm))"
   ]
  },
  {
   "cell_type": "code",
   "execution_count": 40,
   "id": "6817fbeb-4ac3-4149-a2f0-90cc14999242",
   "metadata": {},
   "outputs": [
    {
     "data": {
      "text/plain": [
       "(76001336893899078, 83743135503061592)"
      ]
     },
     "execution_count": 40,
     "metadata": {},
     "output_type": "execute_result"
    }
   ],
   "source": [
    "sv_ids[idx], sv_ids[idx + len(pre_nm)]"
   ]
  },
  {
   "cell_type": "code",
   "execution_count": 41,
   "id": "38437b8b-82c5-4eca-9192-97f7e38c3878",
   "metadata": {},
   "outputs": [
    {
     "data": {
      "text/plain": [
       "(array([78312., 52656.,  6323.]), array([191112.,  70680.,   5064.]))"
      ]
     },
     "execution_count": 41,
     "metadata": {},
     "output_type": "execute_result"
    }
   ],
   "source": [
    "all_coords[coord_ids][idx] / np.array([4, 4, 40]), all_coords[coord_ids][idx + len(pre_nm)] / np.array([4, 4, 40])"
   ]
  },
  {
   "cell_type": "code",
   "execution_count": 43,
   "id": "da32e0cf-3123-4c46-90c1-6e428a63610c",
   "metadata": {},
   "outputs": [],
   "source": [
    "sv_ids_unordered = np.load(f\"/Users/svenmd/LargeLookupUtils/data/FW_sample/sv_ids_unordered.npy\")\n",
    "sv_coord_ids = np.load(f\"/Users/svenmd/LargeLookupUtils/data/FW_sample/sv_coord_ids.npy\")"
   ]
  },
  {
   "cell_type": "code",
   "execution_count": 44,
   "id": "8a9c7f00-726c-44bf-8f79-03d0b57da398",
   "metadata": {},
   "outputs": [],
   "source": [
    "sv_ids_ordered = np.zeros(len(sv_ids_unordered), dtype=np.uint64)\n",
    "sv_ids_ordered[sv_coord_ids] = sv_ids_unordered\n",
    "\n",
    "np.save(f\"/Users/svenmd/LargeLookupUtils/data/FW_sample/sv_ids_ordered.npy\", sv_ids_ordered)"
   ]
  },
  {
   "cell_type": "code",
   "execution_count": 54,
   "id": "f4587b7c-2ab3-4089-a0ac-1bdf2eec812c",
   "metadata": {},
   "outputs": [],
   "source": [
    "sv_path = f\"/Users/svenmd/LargeLookupUtils/data/FW_sample/\""
   ]
  },
  {
   "cell_type": "code",
   "execution_count": 50,
   "id": "33cdf01a-0ed1-4312-a645-f01afe69bcd7",
   "metadata": {},
   "outputs": [],
   "source": [
    "datastack = \"flywire_fafb_production\"\n",
    "\n",
    "import caveclient \n",
    "client = caveclient.CAVEclient(datastack)"
   ]
  },
  {
   "cell_type": "code",
   "execution_count": 69,
   "id": "61a3ed4f-c33a-491b-86bd-411d1f9ecb85",
   "metadata": {},
   "outputs": [],
   "source": [
    "mat_version = 783"
   ]
  },
  {
   "cell_type": "code",
   "execution_count": 70,
   "id": "bb05c312-0b29-4321-8bc9-3e22a8e426ba",
   "metadata": {},
   "outputs": [
    {
     "name": "stdout",
     "output_type": "stream",
     "text": [
      "python largelookuputils/root_lookups.py -s /Users/svenmd/LargeLookupUtils/data/FW_sample/ -o /Users/svenmd/LargeLookupUtils/data/FW_sample/roots_783 -d flywire_fafb_production -m 783 -p 10\n"
     ]
    }
   ],
   "source": [
    "print(f\"python largelookuputils/root_lookups.py -s {sv_path} -o {HOME}/LargeLookupUtils/data/FW_sample/roots_{mat_version} -d {datastack} -m {mat_version} -p {10}\")"
   ]
  },
  {
   "cell_type": "code",
   "execution_count": 56,
   "id": "0c816029-9f1d-4477-9050-2099b0ce8666",
   "metadata": {},
   "outputs": [
    {
     "data": {
      "text/plain": [
       "\u001b[0;31mSignature:\u001b[0m\n",
       "\u001b[0mclient\u001b[0m\u001b[0;34m.\u001b[0m\u001b[0mchunkedgraph\u001b[0m\u001b[0;34m.\u001b[0m\u001b[0mget_roots\u001b[0m\u001b[0;34m(\u001b[0m\u001b[0;34m\u001b[0m\n",
       "\u001b[0;34m\u001b[0m    \u001b[0msupervoxel_ids\u001b[0m\u001b[0;34m,\u001b[0m\u001b[0;34m\u001b[0m\n",
       "\u001b[0;34m\u001b[0m    \u001b[0mtimestamp\u001b[0m\u001b[0;34m=\u001b[0m\u001b[0;32mNone\u001b[0m\u001b[0;34m,\u001b[0m\u001b[0;34m\u001b[0m\n",
       "\u001b[0;34m\u001b[0m    \u001b[0mstop_layer\u001b[0m\u001b[0;34m=\u001b[0m\u001b[0;32mNone\u001b[0m\u001b[0;34m,\u001b[0m\u001b[0;34m\u001b[0m\n",
       "\u001b[0;34m\u001b[0m\u001b[0;34m)\u001b[0m \u001b[0;34m->\u001b[0m \u001b[0mnumpy\u001b[0m\u001b[0;34m.\u001b[0m\u001b[0mndarray\u001b[0m\u001b[0;34m\u001b[0m\u001b[0;34m\u001b[0m\u001b[0m\n",
       "\u001b[0;31mDocstring:\u001b[0m\n",
       "Get the root ID for a list of supervoxels.\n",
       "\n",
       "Parameters\n",
       "----------\n",
       "supervoxel_ids : list or np.array of int\n",
       "    Supervoxel IDs to look up.\n",
       "timestamp : datetime.datetime, optional\n",
       "    UTC datetime to specify the state of the chunkedgraph at which to query, by\n",
       "    default None. If None, uses the current time.\n",
       "stop_layer : int or None, optional\n",
       "    If True, looks up IDs only up to a given stop layer. Default is None.\n",
       "\n",
       "Returns\n",
       "-------\n",
       "np.array of np.uint64\n",
       "    Root IDs containing each supervoxel.\n",
       "\u001b[0;31mFile:\u001b[0m      ~/opt/anaconda3/envs/default-py311/lib/python3.11/site-packages/caveclient/chunkedgraph.py\n",
       "\u001b[0;31mType:\u001b[0m      method"
      ]
     },
     "metadata": {},
     "output_type": "display_data"
    }
   ],
   "source": [
    "client.chunkedgraph.get_roots?"
   ]
  },
  {
   "cell_type": "code",
   "execution_count": 61,
   "id": "6bb0fda5-ce19-452d-8a19-972e2a005c33",
   "metadata": {},
   "outputs": [
    {
     "data": {
      "text/plain": [
       "datetime.datetime(2023, 9, 29, 22, 10, 1)"
      ]
     },
     "execution_count": 61,
     "metadata": {},
     "output_type": "execute_result"
    }
   ],
   "source": [
    "import datetime \n",
    "datetime.datetime.fromtimestamp(timestamp)"
   ]
  },
  {
   "cell_type": "code",
   "execution_count": 64,
   "id": "4bc37b77-69e0-4306-a608-fa6ea0bc5d13",
   "metadata": {},
   "outputs": [],
   "source": [
    "ts = client.materialize.get_timestamp(783)"
   ]
  },
  {
   "cell_type": "code",
   "execution_count": 67,
   "id": "a4e52d67-b7ad-4ac9-be57-fa2564def050",
   "metadata": {},
   "outputs": [
    {
     "ename": "TypeError",
     "evalue": "strftime() missing required argument 'format' (pos 1)",
     "output_type": "error",
     "traceback": [
      "\u001b[0;31m---------------------------------------------------------------------------\u001b[0m",
      "\u001b[0;31mTypeError\u001b[0m                                 Traceback (most recent call last)",
      "Cell \u001b[0;32mIn[67], line 1\u001b[0m\n\u001b[0;32m----> 1\u001b[0m \u001b[43mts\u001b[49m\u001b[38;5;241;43m.\u001b[39;49m\u001b[43mstrftime\u001b[49m\u001b[43m(\u001b[49m\u001b[43m)\u001b[49m\n",
      "\u001b[0;31mTypeError\u001b[0m: strftime() missing required argument 'format' (pos 1)"
     ]
    }
   ],
   "source": [
    "ts.strftime()"
   ]
  },
  {
   "cell_type": "code",
   "execution_count": null,
   "id": "3b3b40ba-565a-4416-8d98-4955e4a8db30",
   "metadata": {},
   "outputs": [],
   "source": []
  }
 ],
 "metadata": {
  "kernelspec": {
   "display_name": "Python 3 (ipykernel)",
   "language": "python",
   "name": "python3"
  },
  "language_info": {
   "codemirror_mode": {
    "name": "ipython",
    "version": 3
   },
   "file_extension": ".py",
   "mimetype": "text/x-python",
   "name": "python",
   "nbconvert_exporter": "python",
   "pygments_lexer": "ipython3",
   "version": "3.11.5"
  }
 },
 "nbformat": 4,
 "nbformat_minor": 5
}
