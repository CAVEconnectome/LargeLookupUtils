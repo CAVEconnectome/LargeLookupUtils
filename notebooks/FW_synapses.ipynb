{
 "cells": [
  {
   "cell_type": "code",
   "execution_count": 13,
   "id": "87f6223b-cc28-4a23-8c7d-8df56c8e9e02",
   "metadata": {},
   "outputs": [],
   "source": [
    "import pandas as pd\n",
    "import numpy as np\n",
    "import os\n",
    "\n",
    "HOME = os.path.expanduser(\"~\")\n",
    "repo_path = f\"{HOME}/LargeLookupUtils/data\""
   ]
  },
  {
   "cell_type": "code",
   "execution_count": 3,
   "id": "fa9c6c1c-269f-4da0-bf1b-d75ef821b506",
   "metadata": {},
   "outputs": [],
   "source": [
    "path = f\"{HOME}/FlyWireConnectome/data/sample_edgelist.feather\"\n",
    "sample_df = pd.read_feather(path)"
   ]
  },
  {
   "cell_type": "code",
   "execution_count": 10,
   "id": "e3f4de9f-f638-46f3-bf88-b66a5f7b72e3",
   "metadata": {},
   "outputs": [],
   "source": [
    "pre_nm = np.array(sample_df[[\"presyn_x\", \"presyn_y\", \"presyn_z\"]]) * np.array([16, 16, 40])\n",
    "post_nm = np.array(sample_df[[\"postsyn_x\", \"postsyn_y\", \"presyn_z\"]]) * np.array([16, 16, 40])"
   ]
  },
  {
   "cell_type": "code",
   "execution_count": 37,
   "id": "6d8c1ef2-447c-4a78-a840-fe3abb15083d",
   "metadata": {},
   "outputs": [],
   "source": [
    "all_coords = np.concatenate([pre_nm, post_nm], axis=0)"
   ]
  },
  {
   "cell_type": "code",
   "execution_count": 14,
   "id": "ff6983fc-adee-45a1-9661-892b341b353d",
   "metadata": {},
   "outputs": [],
   "source": [
    "np.save(f\"{repo_path}/FW_sample_edgelist_coords.npy\", np.concatenate([pre_nm, post_nm], axis=0))"
   ]
  },
  {
   "cell_type": "code",
   "execution_count": 25,
   "id": "60bce209-fa87-477e-8675-8f3dc97aef52",
   "metadata": {},
   "outputs": [
    {
     "data": {
      "text/plain": [
       "158873"
      ]
     },
     "execution_count": 25,
     "metadata": {},
     "output_type": "execute_result"
    }
   ],
   "source": [
    "len(pre_nm)"
   ]
  },
  {
   "cell_type": "code",
   "execution_count": 28,
   "id": "3e928cc7-e7fa-4efc-a870-0403040208a3",
   "metadata": {},
   "outputs": [],
   "source": [
    "coord_ids = np.load(f\"{repo_path}/FW_sample/coord_ids.npy\")\n",
    "sv_ids = np.load(f\"{repo_path}/FW_sample/sv_ids.npy\")"
   ]
  },
  {
   "cell_type": "code",
   "execution_count": 32,
   "id": "ed8a8605-00be-4336-934e-23dc3a6ecbef",
   "metadata": {},
   "outputs": [
    {
     "data": {
      "text/plain": [
       "79027604942059542"
      ]
     },
     "execution_count": 32,
     "metadata": {},
     "output_type": "execute_result"
    }
   ],
   "source": [
    "sv_ids[coord_ids][idx]"
   ]
  },
  {
   "cell_type": "code",
   "execution_count": 31,
   "id": "80d58786-a8fc-406b-bba1-3a59efde770c",
   "metadata": {},
   "outputs": [],
   "source": [
    "idx = np.random.randint(len(pre_nm))"
   ]
  },
  {
   "cell_type": "code",
   "execution_count": 40,
   "id": "6817fbeb-4ac3-4149-a2f0-90cc14999242",
   "metadata": {},
   "outputs": [
    {
     "data": {
      "text/plain": [
       "(76001336893899078, 83743135503061592)"
      ]
     },
     "execution_count": 40,
     "metadata": {},
     "output_type": "execute_result"
    }
   ],
   "source": [
    "sv_ids[idx], sv_ids[idx + len(pre_nm)]"
   ]
  },
  {
   "cell_type": "code",
   "execution_count": 41,
   "id": "38437b8b-82c5-4eca-9192-97f7e38c3878",
   "metadata": {},
   "outputs": [
    {
     "data": {
      "text/plain": [
       "(array([78312., 52656.,  6323.]), array([191112.,  70680.,   5064.]))"
      ]
     },
     "execution_count": 41,
     "metadata": {},
     "output_type": "execute_result"
    }
   ],
   "source": [
    "all_coords[coord_ids][idx] / np.array([4, 4, 40]), all_coords[coord_ids][idx + len(pre_nm)] / np.array([4, 4, 40])"
   ]
  },
  {
   "cell_type": "code",
   "execution_count": null,
   "id": "da32e0cf-3123-4c46-90c1-6e428a63610c",
   "metadata": {},
   "outputs": [],
   "source": []
  }
 ],
 "metadata": {
  "kernelspec": {
   "display_name": "Python 3 (ipykernel)",
   "language": "python",
   "name": "python3"
  },
  "language_info": {
   "codemirror_mode": {
    "name": "ipython",
    "version": 3
   },
   "file_extension": ".py",
   "mimetype": "text/x-python",
   "name": "python",
   "nbconvert_exporter": "python",
   "pygments_lexer": "ipython3",
   "version": "3.11.5"
  }
 },
 "nbformat": 4,
 "nbformat_minor": 5
}
